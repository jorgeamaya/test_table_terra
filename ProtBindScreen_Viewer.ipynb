{
 "cells": [
  {
   "cell_type": "markdown",
   "id": "65666248",
   "metadata": {},
   "source": [
    "**Launch ProtBindScreen Viewer**"
   ]
  },
  {
   "cell_type": "markdown",
   "id": "08dd81c6",
   "metadata": {},
   "source": [
    "Step 1: Specify the input for the Viewer in the next cell. Run the cell. "
   ]
  },
  {
   "cell_type": "code",
   "execution_count": 1,
   "id": "fb9fe118",
   "metadata": {},
   "outputs": [],
   "source": [
    "# User-defined parameters for the ProtBindScreen Viewer notebook \n",
    "# screen_name = \"BMP6_screen\"\n",
    "# analysis_name = \"full_analysis\"\n",
    "# workspace_bucket = \"gs://fc-abc1234-5678-90ab-cdef\"\n"
   ]
  },
  {
   "cell_type": "markdown",
   "id": "b27ed12e",
   "metadata": {},
   "source": [
    "Step 2: Launch the Viewer"
   ]
  },
  {
   "cell_type": "code",
   "execution_count": 2,
   "id": "7560ae08",
   "metadata": {},
   "outputs": [
    {
     "data": {
      "application/vnd.jupyter.widget-view+json": {
       "model_id": "bd0b7f2dfced4ec6a2125f6e2bcdd11e",
       "version_major": 2,
       "version_minor": 0
      },
      "text/plain": []
     },
     "metadata": {},
     "output_type": "display_data"
    },
    {
     "name": "stdout",
     "output_type": "stream",
     "text": [
      "Launching ProtBindScreen Viewer...\n"
     ]
    },
    {
     "data": {
      "application/vnd.jupyter.widget-view+json": {
       "model_id": "7dc63a2bb0aa4e6eaaa1ed661c960249",
       "version_major": 2,
       "version_minor": 0
      },
      "text/plain": [
       "Output(layout=Layout(border_bottom='1px solid #ccc', border_left='1px solid #ccc', border_right='1px solid #cc…"
      ]
     },
     "metadata": {},
     "output_type": "display_data"
    },
    {
     "data": {
      "text/html": [
       "\n",
       "    <style>\n",
       "    /* Style ToggleButtons */\n",
       "    .widget-toggle-buttons .widget-toggle-button {\n",
       "        background-color: #f0f9fd !important;\n",
       "        color: #052D69 !important;\n",
       "        font-weight: bold !important;\n",
       "        font-family: Arial, sans-serif !important;\n",
       "        font-size: 16px !important;\n",
       "        border: 1px solid #ccc !important;\n",
       "    }\n",
       "\n",
       "    .widget-toggle-buttons .widget-toggle-button.mod-active {\n",
       "        background-color: #01086B !important;\n",
       "        color: white !important;\n",
       "    }\n",
       "\n",
       "    .widget-toggle-buttons .widget-toggle-button:hover {\n",
       "        background-color: #e0f2ff !important;\n",
       "    }\n",
       "    </style>\n",
       "    "
      ],
      "text/plain": [
       "<IPython.core.display.HTML object>"
      ]
     },
     "metadata": {},
     "output_type": "display_data"
    },
    {
     "data": {
      "text/html": [
       "\n",
       "    <style>\n",
       "    /* Placeholder styling */\n",
       "    .v-text-field input::placeholder {\n",
       "        color: #768288 !important;\n",
       "        font-family: Arial, sans-serif !important;\n",
       "        font-size: 16px !important;\n",
       "        font-weight: normal !important;\n",
       "        font-style: italic !important;\n",
       "        text-align: center !important;\n",
       "    }\n",
       "    \n",
       "    .v-text-field .v-input__placeholder {\n",
       "        color: #768288 !important;\n",
       "        font-family: Arial, sans-serif !important;\n",
       "        font-size: 16px !important;\n",
       "        font-weight: normal !important;\n",
       "        font-style: italic !important;\n",
       "        text-align: center !important;\n",
       "    }\n",
       "    \n",
       "    /* Dropdown menu styling */\n",
       "    .v-menu__content {\n",
       "        background-color: white !important;\n",
       "        border: 1px solid #ccc !important;\n",
       "    }\n",
       "    \n",
       "    /* Dropdown items styling */\n",
       "    .v-list-item {\n",
       "        background-color: white !important;\n",
       "        color: #052D69 !important;  \n",
       "        font-family: Arial, sans-serif !important;\n",
       "        font-size: 12px !important;\n",
       "        margin: 0 !important;\n",
       "        padding: 0px 6px !important;\n",
       "        border-bottom: 1px solid #eee !important;\n",
       "        text-align: center !important;\n",
       "    }\n",
       "    \n",
       "    /* Dropdown item hover */\n",
       "    .v-list-item:hover {\n",
       "        background-color: #e0f2ff !important; \n",
       "        color: #052D69 !important;\n",
       "        font-weight: bold !important;\n",
       "    }\n",
       "    \n",
       "    /* Selected/active item */\n",
       "    .v-list-item--active {\n",
       "        background-color: #052D69 !important;  \n",
       "        color: #ffffff !important; \n",
       "        font-weight: bold !important;\n",
       "    }\n",
       "    \n",
       "    /* Selected text in input field */\n",
       "    .v-autocomplete input {\n",
       "        color: #052D69 !important;\n",
       "        font-family: Arial, sans-serif !important;\n",
       "        font-size: 16px !important;\n",
       "        font-weight: bold !important;\n",
       "        text-align: center !important;\n",
       "    }\n",
       "    </style>\n",
       "    "
      ],
      "text/plain": [
       "<IPython.core.display.HTML object>"
      ]
     },
     "metadata": {},
     "output_type": "display_data"
    },
    {
     "data": {
      "application/vnd.jupyter.widget-view+json": {
       "model_id": "452e18923596428d902977b9e72acb3d",
       "version_major": 2,
       "version_minor": 0
      },
      "text/plain": [
       "VBox(children=(HTML(value='<h1 style=\"text-align: center; margin: 0; padding: 20px; background: #01086B; color…"
      ]
     },
     "metadata": {},
     "output_type": "display_data"
    }
   ],
   "source": [
    "from pathlib import Path\n",
    "from protbindscreen.visualization.screen_visualization import launch_protbindscreen_viewer\n",
    "\n",
    "\n",
    "screen_analysis_subbucket = Path(\"/workspace/protbindscreen/runs/mock_bucket_for_viewer\")\n",
    "\n",
    "# Option A: Stream directly\n",
    "\n",
    "launch_protbindscreen_viewer(screen_analysis_subbucket)"
   ]
  },
  {
   "cell_type": "code",
   "execution_count": null,
   "id": "c01af0b5-c249-4d66-8c53-d91b61b5c2c4",
   "metadata": {},
   "outputs": [],
   "source": []
  }
 ],
 "metadata": {
  "kernelspec": {
   "display_name": "Python 3 (ipykernel)",
   "language": "python",
   "name": "python3"
  },
  "language_info": {
   "codemirror_mode": {
    "name": "ipython",
    "version": 3
   },
   "file_extension": ".py",
   "mimetype": "text/x-python",
   "name": "python",
   "nbconvert_exporter": "python",
   "pygments_lexer": "ipython3",
   "version": "3.11.14"
  }
 },
 "nbformat": 4,
 "nbformat_minor": 5
}
